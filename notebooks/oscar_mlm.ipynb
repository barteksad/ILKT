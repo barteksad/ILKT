{
 "cells": [
  {
   "cell_type": "code",
   "id": "initial_id",
   "metadata": {
    "collapsed": true,
    "ExecuteTime": {
     "end_time": "2024-06-15T11:38:09.714560Z",
     "start_time": "2024-06-15T11:38:08.791788Z"
    }
   },
   "source": "from datasets import load_dataset",
   "outputs": [],
   "execution_count": 1
  },
  {
   "metadata": {
    "ExecuteTime": {
     "end_time": "2024-06-15T11:41:36.790351Z",
     "start_time": "2024-06-15T11:41:03.571561Z"
    }
   },
   "cell_type": "code",
   "source": [
    "dataset = load_dataset(\n",
    "            \"oscar-corpus/OSCAR-2109\", \"deduplicated_pl\", split=\"train\", streaming=True, token=True, trust_remote_code=True\n",
    "        )"
   ],
   "id": "6ee66ce75155c9c5",
   "outputs": [],
   "execution_count": 5
  },
  {
   "metadata": {
    "ExecuteTime": {
     "end_time": "2024-06-15T11:42:37.663336Z",
     "start_time": "2024-06-15T11:42:27.604576Z"
    }
   },
   "cell_type": "code",
   "source": "next(iter(dataset))['text']",
   "id": "233d83c838f6f402",
   "outputs": [
    {
     "data": {
      "text/plain": [
       "'Prześlij nam swój adres e-mail, a my powiadomimy Cię o nowych produktach, najlepszych cenach, promocjach i wyprzedażach.'"
      ]
     },
     "execution_count": 8,
     "metadata": {},
     "output_type": "execute_result"
    }
   ],
   "execution_count": 8
  },
  {
   "metadata": {},
   "cell_type": "code",
   "outputs": [],
   "execution_count": null,
   "source": "",
   "id": "6f997399ab7f7479"
  }
 ],
 "metadata": {
  "kernelspec": {
   "display_name": "Python 3",
   "language": "python",
   "name": "python3"
  },
  "language_info": {
   "codemirror_mode": {
    "name": "ipython",
    "version": 2
   },
   "file_extension": ".py",
   "mimetype": "text/x-python",
   "name": "python",
   "nbconvert_exporter": "python",
   "pygments_lexer": "ipython2",
   "version": "2.7.6"
  }
 },
 "nbformat": 4,
 "nbformat_minor": 5
}
