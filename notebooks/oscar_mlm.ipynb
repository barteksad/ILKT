{
 "cells": [
  {
   "cell_type": "code",
   "id": "initial_id",
   "metadata": {
    "collapsed": true,
    "ExecuteTime": {
     "end_time": "2024-06-15T11:38:09.714560Z",
     "start_time": "2024-06-15T11:38:08.791788Z"
    }
   },
   "source": "from datasets import load_dataset",
   "outputs": [],
   "execution_count": 1
  },
  {
   "metadata": {
    "ExecuteTime": {
     "end_time": "2024-06-15T11:41:36.790351Z",
     "start_time": "2024-06-15T11:41:03.571561Z"
    }
   },
   "cell_type": "code",
   "source": [
    "dataset = load_dataset(\n",
    "            \"oscar-corpus/OSCAR-2109\", \"deduplicated_pl\", split=\"train\", streaming=True, token=True, trust_remote_code=True\n",
    "        )"
   ],
   "id": "6ee66ce75155c9c5",
   "outputs": [],
   "execution_count": 5
  },
  {
   "metadata": {
    "ExecuteTime": {
     "end_time": "2024-06-15T11:42:37.663336Z",
     "start_time": "2024-06-15T11:42:27.604576Z"
    }
   },
   "cell_type": "code",
   "source": "next(iter(dataset))['text']",
   "id": "233d83c838f6f402",
   "outputs": [
    {
     "data": {
      "text/plain": [
       "'Prześlij nam swój adres e-mail, a my powiadomimy Cię o nowych produktach, najlepszych cenach, promocjach i wyprzedażach.'"
      ]
     },
     "execution_count": 8,
     "metadata": {},
     "output_type": "execute_result"
    }
   ],
   "execution_count": 8
  },
  {
   "metadata": {
    "ExecuteTime": {
     "end_time": "2024-06-15T12:35:30.876236Z",
     "start_time": "2024-06-15T12:34:53.087101Z"
    }
   },
   "cell_type": "code",
   "source": [
    "dataset = load_dataset(\n",
    "            \"allegro/summarization-allegro-articles\", split=\"train\", streaming=True, token=True, trust_remote_code=True\n",
    "        )"
   ],
   "id": "6f997399ab7f7479",
   "outputs": [],
   "execution_count": 15
  },
  {
   "metadata": {
    "ExecuteTime": {
     "end_time": "2024-06-15T12:35:33.747812Z",
     "start_time": "2024-06-15T12:35:30.877259Z"
    }
   },
   "cell_type": "code",
   "source": "next(iter(dataset))[\"source\"]",
   "id": "7eb14c7a796fc57f",
   "outputs": [
    {
     "data": {
      "text/plain": [
       "'Halka to dla wielu słowo nieznane. Niektórzy kojarzą je wprawdzie z częścią garderoby, nie wiedzą jednak, w jaki sposób się ją nosi. Komu i do czego służy halka? Halka brzmi niczym zdrobnienie od imienia Halina. Jest to również tytuł polskiej opery skomponowanej przez Stanisława Moniuszkę. Odnajdziemy ją także w branży odzieżowej. Oznacza część damskiej bielizny, którą kobiety zakładają pod suknię lub spódnicę. Jest dodatkiem do biustonosza i majtek. Wkłada się ją bezpośrednio pod suknię lub spódnicę. Poza tym halką nazywać można także koszule nocne, w których często śpią kobiety. Jakie rodzaje halek znajdziemy na rynku i czym powinniśmy się kierować przy ich zakupie?\\nKlasyczna halka pod sukienkę\\nCoraz rzadziej wkłada się halki pod codzienne stroje. Nasze babcie, a czasem nawet i mamy miewają to w zwyczaju do dziś. Zaglądając jednak do szaf nastolatek i młodych kobiet, ze znalezieniem halki można mieć duży problem. Istnieją bowiem alternatywne stroje, które mogą dać podobny efekt, czyli sprawić, że będzie nam po prostu ciepło. W dzisiejszych czasach najbardziej popularne są podkoszulki lub topy, wkładane pod bluzkę. Jednak pod sukienką to właśnie halka sprawdzi się lepiej. Da efekt taki, jak podkoszulek, ale jest dłuższa, dzięki czemu zakryje również uda. Co ważne, klasyczna halka ma subtelnie wycięty dekolt, dlatego doskonale skrywa się pod strojem. Nawet jej ramiączka nie powinny odciskać się na odzieży. Do uszycia tego typu halek najczęściej wykorzystuje się bawełnę. Produkty dostępne są w rozmiarach od XS do XXL, a ich ceny wahają się od 25 zł do 45 zł.\\nHalka wyszczuplająca – dla podkreślenia kobiecych kształtów i ukrycia niedoskonałości\\nKtóra z pań choć raz nie poczuła się jak Bridget Jones, zakładając wyszczuplającą bieliznę pod wieczorowy strój? Nawet jeśli niektóre kobiety nie mają tego na swoim koncie, to prawdopodobnie podobny pomysł przyszedł im kiedyś do głowy i przeglądały na sklepowych półkach bieliznę wyszczuplającą. Jeżeli niczego dla siebie nie znalazły, ponieważ czują opory przed włożeniem majtek z wysokim stanem i nie przepadają za gorsetami, to powinny sięgnąć po halki wyszczuplające. Podobnie jak klasyczne halki, zakłada się je pod strój – nie zastępują zatem codziennej bielizny, są jedynie dodatkiem sięgającym do połowy uda. Tego typu halki występują w dwóch wersjach, a różnice dotyczą ich górnych części. Znajdziemy halki z ramiączkami lub bez ramiączek. Te drugie sprawdzą się przy sukienkach z odkrytymi ramionami. Przy pierwszych możemy regulować długość ramiączek. Halki wyszczuplające pomagają wymodelować sylwetkę, ukryć jej niedoskonałości i podkreślić kobiece atuty. Część halek wyszczuplających ma doszyte w górnej części miseczki od stanika, które pozwalają osiągnąć efekt push-up. Inne zaczynają się dopiero pod biustem, który dzięki takiemu rozwiązaniu wygląda lepiej. Na rynku znajdziemy także halki wyszczuplające, które zaczynają się w linii talii – ich głównym zadaniem jest skorygowanie kształtu ud i pośladków. Przykładem takiej halki może być Light Sensation Highwaist Skirt marki Triumph. Model efektownie pomaga ukryć niedoskonałości sylwetki i, dzięki specjalnej formule Aloe Vera, nawilża skórę. Bezszwowe wykończenia halki dają gwarancję niewidoczności bielizny nawet pod bardzo obcisłym strojem. Halka pasować będzie na panie w rozmiarach od S do L, pojawia się w cenach od 17 zł do 45 zł.\\nHalka do spania\\nMówi się, że najważniejsza w stroju, zwłaszcza tym przeznaczonym do spania, jest wygoda. Nie sposób nie zgodzić się z owym stwierdzeniem. Sytuacja idealna to jednak taka, gdy w parze z wygodą idzie elegancja. Następującą ideę realizuje często właśnie halka. Tak, właśnie halka do spania. Choć najpopularniejsze stroje nocne to piżamy, halki, zwane też koszulami nocnymi, również cieszą się dużym zainteresowaniem. Wyglądem przypominają sukienki, długością zwykle sięgają połowy ud, a zamiast rękawów mają ramiączka. Przeważnie wykonane są z satyny lub z bawełny. Co charakterystyczne dla halek do spania, bardzo często wzbogacone są ozdobnikami – na przykład tiulem, koronką czy haftem. Najpopularniejszymi wzorami są kwiaty oraz zwierzęce printy. Podobnie jak halki wyszczuplające, koszule nocne mają czasem wszyte miseczki, które podtrzymują biust niczym stanik. Tego typu strój zapewnia wygodę i staje się idealnym upominkiem dla kobiet. Wybierany jest na okazje, takie jak rocznica ślubu czy urodziny. Kobiety doceniają halki szczególnie w upały, kiedy do spania poszukiwane są jak najlżejsze, zwiewne stroje. Ceny tego typu halek zaczynają się od około 20 zł, a kończą na około 150 zł, dostępne są w wielu wariantach kolorystycznych.\\nZ myślą o kobiecie\\nHalki nie zyskują w ostatnich latach na popularności. Niewątpliwie jednak każda kobieta powinna mieć choć jedną w swojej szafie. W zależności od sytuacji może być ona dodatkową warstwą stroju, która zapewni ciepło w chłodne dni, pomoże w modelowaniu sylwetki lub stanie się wygodnym ubiorem do spania. Jedno jest pewne – halka to typowo damska część garderoby i właśnie tej kobiecości strojowi często dodaje. Oby halki nie zniknęły na dobre z kobiecych szaf i pojawiały się w nowych, odświeżonych wersjach. Chyba czas na zakupy!'"
      ]
     },
     "execution_count": 16,
     "metadata": {},
     "output_type": "execute_result"
    }
   ],
   "execution_count": 16
  },
  {
   "metadata": {},
   "cell_type": "code",
   "outputs": [],
   "execution_count": null,
   "source": "",
   "id": "9823e997b9fd6034"
  }
 ],
 "metadata": {
  "kernelspec": {
   "display_name": "Python 3",
   "language": "python",
   "name": "python3"
  },
  "language_info": {
   "codemirror_mode": {
    "name": "ipython",
    "version": 2
   },
   "file_extension": ".py",
   "mimetype": "text/x-python",
   "name": "python",
   "nbconvert_exporter": "python",
   "pygments_lexer": "ipython2",
   "version": "2.7.6"
  }
 },
 "nbformat": 4,
 "nbformat_minor": 5
}
