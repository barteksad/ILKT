{
 "cells": [
  {
   "cell_type": "code",
   "execution_count": 2,
   "metadata": {},
   "outputs": [],
   "source": [
    "%%capture\n",
    "%pip install datasets"
   ]
  },
  {
   "cell_type": "code",
   "execution_count": 1,
   "metadata": {},
   "outputs": [
    {
     "name": "stderr",
     "output_type": "stream",
     "text": [
      "/usr/lib/python3/dist-packages/requests/__init__.py:87: RequestsDependencyWarning: urllib3 (2.2.1) or chardet (4.0.0) doesn't match a supported version!\n",
      "  warnings.warn(\"urllib3 ({}) or chardet ({}) doesn't match a supported \"\n",
      "/home/barteksad/.local/lib/python3.10/site-packages/tqdm/auto.py:21: TqdmWarning: IProgress not found. Please update jupyter and ipywidgets. See https://ipywidgets.readthedocs.io/en/stable/user_install.html\n",
      "  from .autonotebook import tqdm as notebook_tqdm\n"
     ]
    }
   ],
   "source": [
    "from datasets import load_dataset"
   ]
  },
  {
   "cell_type": "code",
   "execution_count": 3,
   "metadata": {},
   "outputs": [
    {
     "data": {
      "text/plain": [
       "Dataset({\n",
       "    features: ['set'],\n",
       "    num_rows: 180000\n",
       "})"
      ]
     },
     "execution_count": 3,
     "metadata": {},
     "output_type": "execute_result"
    }
   ],
   "source": [
    "ds = load_dataset(\"embedding-data/sentence-compression\", split=\"train\")\n",
    "ds"
   ]
  },
  {
   "cell_type": "code",
   "execution_count": 6,
   "metadata": {},
   "outputs": [
    {
     "data": {
      "text/plain": [
       "{'set': ['A WOMAN has been seriously injured in a collision with a police van in North Devon.',\n",
       "  'Woman seriously injured in collision with police van']}"
      ]
     },
     "execution_count": 6,
     "metadata": {},
     "output_type": "execute_result"
    }
   ],
   "source": [
    "ds[10]"
   ]
  },
  {
   "cell_type": "code",
   "execution_count": 7,
   "metadata": {},
   "outputs": [],
   "source": [
    "n_examples = []\n",
    "\n",
    "for example in ds:\n",
    "    n_examples.append(len(example[\"set\"]))"
   ]
  },
  {
   "cell_type": "code",
   "execution_count": 8,
   "metadata": {},
   "outputs": [
    {
     "data": {
      "text/plain": [
       "2.0"
      ]
     },
     "execution_count": 8,
     "metadata": {},
     "output_type": "execute_result"
    }
   ],
   "source": [
    "sum(n_examples) / len(n_examples)"
   ]
  },
  {
   "cell_type": "code",
   "execution_count": 2,
   "metadata": {},
   "outputs": [
    {
     "name": "stderr",
     "output_type": "stream",
     "text": [
      "/home/barteksad/.local/lib/python3.10/site-packages/datasets/load.py:1486: FutureWarning: The repository for wikipedia contains custom code which must be executed to correctly load the dataset. You can inspect the repository content at https://hf.co/datasets/wikipedia\n",
      "You can avoid this message in future by passing the argument `trust_remote_code=True`.\n",
      "Passing `trust_remote_code=True` will be mandatory to load this dataset from the next major release of `datasets`.\n",
      "  warnings.warn(\n"
     ]
    },
    {
     "name": "stdout",
     "output_type": "stream",
     "text": [
      "Extracting content from https://dumps.wikimedia.org/plwiki/20240520/plwiki-20240520-pages-articles-multistream1.xml-p1p187037.bz2\n",
      "{'id': '2', 'url': 'https://pl.wikipedia.org/wiki/AWK', 'title': 'AWK', 'text': 'AWK – interpretowany język programowania, którego główną funkcją jest wyszukiwanie i przetwarzanie wzorców w plikach lub strumieniach danych. Jest także nazwą programu początkowo dostępnego dla systemów operacyjnych będących pochodnymi UNIX-a, obecnie także na inne platformy.\\n\\nAWK jest językiem, który w znacznym stopniu wykorzystuje tablice asocjacyjne, stringi i wyrażenia regularne. Nazwa języka pochodzi od pierwszych liter nazwisk jego autorów Alfreda V. Aho, Petera Weinbergera i Briana Kernighana. Bywa zapisywana małymi literami, odczytywana jako jedno słowo awk, wymawiana jak pierwsza sylaba w awkward.\\n\\nDefinicja języka AWK jest zawarta w POSIX 1003.2 Command Language And Utilities Standard. Wersja ta jest z kolei oparta na opisie z The AWK Programming Language napisanym przez Aho, Weinbergera i Kernighana, z dodatkowymi właściwościami zdefiniowanymi w wersji awk z SVR4.\\n\\nW wierszu poleceń podaje się opcje dla awk, tekst programu (jeśli nie podano go poprzez opcję -f lub --file) i wartości, które mają być udostępnione w predefiniowanych zmiennych ARGC i ARGV.\\n\\nStruktura programów AWK \\n„AWK jest językiem służącym do przetwarzania plików tekstowych. Plik jest traktowany jako ciąg rekordów, przy czym domyślnie rekordem jest każdy wiersz. Każda linia jest podzielona na pola, więc można traktować pierwsze pole linii jako pierwsze słowo, drugie pole jako drugie słowo itd. Program AWK składa się z sekwencji instrukcji wzorzec-akcja. AWK czyta wejście linia po linii. Każda linia jest przeszukiwana pod kątem wzorców występujących w programie i dla każdego pasującego wzorca wykonywana jest akcja z nim skojarzona.” – Alfred V. Aho\\nProgram AWK składa się z sekwencji instrukcji wzorzec-akcja oraz opcjonalnych definicji funkcji.\\n wzorzec { instrukcje akcji }\\n function nazwa(lista parametrów) { instrukcje }\\ngdzie wzorzec to zwykle jakieś wyrażenie, a akcja – lista komend. Wejście dzielone jest na rekordy, domyślnie oddzielone znakiem nowej linii.\\nDla każdego rekordu wejścia awk dokonuje porównania, sprawdzając czy odpowiada on jakiemuś wzorcowi z programu AWK. Jeśli wzorzec będzie odpowiadał rekordowi, zostanie wykonana związana z nim akcja. Wzorce są sprawdzane w kolejności ich pojawienia się w programie. Domyślną akcją jest wypisanie rekordu.\\n\\nKomendy i składnia \\nNa komendy AWK składają się wywołania funkcji, nadawanie wartości zmiennym, obliczenia lub jakaś kombinacja wymienionych zadań. AWK posiada wbudowane wsparcie dla wielu funkcji. Niektóre wersje pozwalają na dynamiczne linkowanie bibliotek, co umożliwia korzystanie z jeszcze większej liczby funkcji.\\nDla uproszczenia nawiasy klamrowe ({}) w poniższych przykładach zostaną pominięte.\\n\\nprint \\nPolecenie print jest używane do wypisywania tekstu. Wyjście jest zawsze zakończone predefiniowanym separatorem rekordów (output record separator (ORS)), który domyślnie jest znakiem nowej linii. Najprostsze zastosowanie polecenia print to:\\n\\n print\\n Wyświetla zawartość obecnego rekordu.\\nW AWK rekordy rozbijane są na pola, które można wyświetlić osobno:\\n\\n print $1\\n Wyświetla pierwsze pole obecnego rekordu.\\n\\n print $1, $3\\n Wyświetla pierwsze i trzecie pole obecnego rekordu oddzielone separatorem pola (output field separator (OFS)) – domyślnie spacją.\\n\\nChoć zapis pól ($X) może kojarzyć się z zapisem określającym zmienne (jak np. w perlu), to jednak określa pola bieżącego rekordu. Ponadto $0 odnosi się do całego rekordu, więc \"print\" oraz \"print $0\" mają takie samo działanie.\\n\\nprint pozwala również wyświetlić wynik obliczeń lub wywołania funkcji. Np.\\n print 3+2\\n print foobar(3)\\n print foobar(zmienna)\\n print sin(3-2)\\nWyjście można również przekierować do pliku:\\n print \"wyrażenie\" > \"nazwa pliku\"\\nlub do innego polecenia przez użycie potoku:\\n print \"wyrażenie\" | \"polecenie\"\\n\\nZmienne i tablice\\n\\nZmienne \\nZmienne AWK są dynamiczne — zaczynają istnieć, gdy są po raz pierwszy użyte. Nazwy zmiennych mogą zawierać znaki z zakresu [A-Za-z0-9_], lecz nie mogą być słowami kluczowymi. Zmienne oraz pola mogą być liczbami (zmiennoprzecinkowymi), łańcuchami lub jednym i drugim naraz. Interpretacja wartości zmiennej zależy od kontekstu. Jeśli jest użyta w wyrażeniu numerycznym, jest interpretowana jako liczba. Natomiast jeśli jest użyta w wyrażeniu łańcuchowym — jest traktowana jak łańcuch.\\n\\nAWK posiada tablice jednowymiarowe. Symulowane mogą być również tablice wielowymiarowe. Podczas działania programu ustawianych jest kilka predefiniowanych zmiennych opisanych niżej.\\n\\nZmienne wbudowane \\nZmienne wbudowane w AWK to m.in. zmienne określające pola: $1, $2 itd. Zwracają one wartość lub tekst przechowywany aktualnie w określonym polu rekordu. Poza nimi AWK posiada również inne zmienne:\\n\\nTablice \\nTablice są indeksowane wyrażeniem ujętym w nawiasy kwadratowe ([]). Jeśli wyrażenie jest listą wyrażeń (wyrażenie, wyrażenie, ...), to indeks tablicy jest sklejany z wartości (łańcuchowych) każdego wyrażenia, oddzielonych wartością zmiennej SUBSEP. Jest tak dlatego, że AWK posiada wyłącznie tablice asocjacyjne, zaś klucze numeryczne pamiętane są jako łańcuchy.\\n\\nSymulowanie tablic wielowymiarowych polega na sklejaniu poszczególnych indeksów w unikalny łańcuch. Na przykład:\\ni = \"A\" ; j = \"B\" ; k = \"C\"\\nx[i, j, k] = \"hello, world\\\\n\"\\nprzypisuje łańcuch \"hello, world\\\\n\" elementowi tablicy x, o indeksie będącym łańcuchem \"A\\\\034B\\\\034C\".\\n\\nJeśli tablica posiada wielokrotne indeksy, można użyć konstrukcji (i, j) in array. Element można skasować z tablicy przy użyciu polecenia delete. Poleceniem delete można się też posłużyć do skasowania całej zawartości tablicy, przez podanie jej nazwy bez indeksu.\\n\\nFunkcje \\nFunkcje są wykonywane po wywołaniu ich z wyrażeń występujących we wzorcach lub akcjach. Definicja funkcji składa się ze słowa kluczowego function, jej nazwy, argumentów i ciała. Poniżej znajduje się przykład funkcji:\\nfunction dodaj_siedem (liczba) {\\n  return liczba + 7\\n}\\nTę funkcję można wywołać w następujący sposób:\\nprint dodaj_siedem(51)     # zwraca 58\\n\\nMiędzy nazwą funkcji, a nawiasem otwierającym można wstawić spację jedynie podczas jej deklaracji – w wywołaniu nawias musi stać bezpośrednio po nazwie funkcji. Ma to na celu zapobieżenie niejednoznaczności składni z operatorem konkatenacji (łączenia). Ograniczenie to nie odnosi się do funkcji wbudowanych.\\n\\nFunkcje mogą posiadać zmienne lokalne. Ich nazwy dodawane są na końcu listy argumentów w definicji funkcji. Jednak ich wartości powinno się pomijać wywołując daną funkcję. Zazwyczaj przed deklaracją zmiennych lokalnych dodaje się kilka białych znaków, by wskazać miejsce, w którym kończą się argumenty funkcji i zaczynają zmienne lokalne.\\n\\nZamiast słowa function można używać słowa funct.\\n\\nOperatory \\nOperatory w AWK, w kolejności malejącego priorytetu, to:\\n\\nWywołanie programu AWK \\nTekst programu czytany jest tak, jakby wszystkie pliki programu zostały połączone ze sobą w całość, przy czym pierwszeństwo mają pliki podane jako argumenty polecenia. Przydaje się to do budowania bibliotek funkcji AWK, bez konieczności włączania ich do każdego nowego programu AWK, który z nich korzysta. Umożliwia to również łączenie funkcji bibliotecznych z programami z wiersza poleceń. Zmienna środowiskowa AWKPATH określa ścieżkę przeszukiwania, używaną do znajdowania plików źródłowych podanych w opcji -f. Jeśli zmienna ta nie istnieje, domyślną ścieżką staje się .:/usr/local/share/awk. (Faktyczny katalog może być różny, zależnie od tego jak skompilowano i zainstalowano awk). Jeśli nazwa pliku, podana opcji -f zawiera znak /, nie jest dokonywane żadne przeszukiwanie ścieżki.\\n\\nProgram AWK wykonywany jest w następującej kolejności:\\n inicjalizacja zmiennych podanych w opcjach -v,\\n kompilacja do postaci wewnętrznej,\\n wywołanie kodu zawartego w blokach BEGIN (o ile istnieją),\\n odczytywanie plików podanych w tablicy ARGV,\\n odczytywanie standardowego wejścia, jeśli pliki nie zostały podane.\\n\\nZ poziomu wiersza poleceń można także ustawić wartość zmiennej, podając zamiast nazwy pliku ciąg zmienna=wartość. Ten sposób inicjalizowania zmiennych najbardziej przydaje się do dynamicznego nadawania wartości zmiennym, których AWK używa do określania sposobu, w jaki wejście rozbijane jest na pola i rekordy. Jest też użyteczny do kontroli stanu, jeśli zachodzi potrzeba wielokrotnego czytania danego pliku danych. Jeśli wartość konkretnego elementu ARGV jest pusta (\"\"), to awk ją pomija.\\n\\nPrzykłady zastosowań\\n\\nHello World \\nPoniżej znajduje się przykład programu \"Hello world\" napisanego w AWK:\\nBEGIN { print \"Hello, world!\" }\\nNiekoniecznie trzeba w tym wypadku pisać na końcu exit. Jedynym wzorcem jest BEGIN, więc żadne argumenty z linii komend nie są przetwarzane.\\nW niektórych wersjach AWK i niektórych krajach dodanie znaku ”_“  przed łańcuchem znaków wypisze go w języku narodowym. Np.\\nBEGIN { print _\"Hello, world!\" }\\nwe Francji może wypisać bonjour, monde!.\\n\\nWypisywanie linii zawierających więcej niż 80 znaków \\nlength($0) > 80\\n\\nZliczanie liczby słów \\nProgram liczy liczbę słów na wejściu i wypisuje liczbę słów, linii i znaków podanych na wejściu (podobnie jak wc).\\n{\\n    w += NF\\n    c += length + 1\\n}\\nEND { print NR, w, c }\\nZe względu na brak wzorca w pierwszej linii programu akcja jest wykonywana dla każdego wiersza wejścia.\\n\\nSuma numerów ostatnich słów \\n{ s += $NF }\\n END { print s + 0 }\\ns jest zwiększane o numer ostatniego słowa w każdym rekordzie.\\nNa końcu wejścia wzorzec END pasuje, więc s jest wypisywane. Jednak wejście może nie zawierać ani jednej linii. Wtedy, jako że zmiennej s nie została nadana żadna wartość, będzie to pusty ciąg. Dodanie zera na końcu przy wypisywaniu s wymusza traktowanie zmiennej tak, jakby zawierała ona liczbę. Dzięki temu nawet, gdy s jest pustym ciągiem na wyjściu nie będzie pustej linii, lecz 0.\\n\\nWypisanie określonej liczby pasujących linii wejścia \\n $ yes Wikipedia | awk \\'NR % 4 == 1, NR % 4 == 3 { printf \"%6d  %s\\\\n\", NR, $0 }\\' | sed 7q\\n      1  Wikipedia\\n      2  Wikipedia\\n      3  Wikipedia\\n      5  Wikipedia\\n      6  Wikipedia\\n      7  Wikipedia\\n      9  Wikipedia\\n $\\n\\nTutaj komenda yes wypisuje słowo „Wikipedia” tak długo, aż sed wykryje, że zostało wypisanych 7 linii. Dalsza część polecenia wypisuje każdą z linii poprzedzoną jej numerem. Wypisywane są tylko linie, których numery dają resztę z dzielenia przez 4 o wartościach od 1 do 3.\\n\\nObliczanie częstotliwości występowania słów \\nProgram używa tablicy asocjacyjnej:\\nBEGIN {\\n    FS=\"[^a-zA-Z]+\"\\n}\\n{\\n    for (i=1; i<=NF; i++)\\n        words[tolower($i)]++\\n}\\nEND {\\n    for (i in words)\\n        print i, words[i]\\n}\\n\\nBlok BEGIN ustawia separator pola na dowolny znak niebędący literą. Warto zauważyć, że separatory mogą być też wyrażeniami regularnymi.\\nNastępnie następuje akcja wykonywana na każdej linii wejścia: dla każdego pola linii zwiększana jest liczba razy, jaką to słowo (uprzednio zamienione na małe litery) wystąpiło. Na końcu wypisywane są wszystkie słowa wraz z częstotliwościami występowania.\\n\\nSamodzielne skrypty AWK \\nPodobnie jak w wielu innych językach skrypt AWK można napisać poprzedzając go znakiem „shebang”. Dla przykładu komendę hello.awk wypisującą tekst „Hello, world!” można napisać tworząc plik o nazwie hello.awk posiadający następującą zawartość:\\n#! /usr/bin/awk -f\\nBEGIN { print \"Hello, world!\" }\\n\\nOpcja -f informuje awk, że następny argument to nazwa pliku, z którego należy przeczytać program, a jest on tam umieszczany przez powłokę systemową podczas działania, tak jakby wywołane zostało polecenie /usr/bin/awk -f hello.awk.\\n\\nPrzypisy\\n\\nZobacz też \\n sed\\n perl\\n polecenia systemu operacyjnego Unix\\n\\nLinki zewnętrzne \\n\\n Strona domowa GNU Awk\\n The Amazing Awk Assembler by Henry Spencer.\\n \\n Gawkinet: TCP/IP Internetworking with Gawk\\n\\nJęzyki skryptowe'}\n"
     ]
    }
   ],
   "source": [
    "ds = load_dataset(\n",
    "    \"wikipedia\", language=\"pl\", date=\"20240520\", split=\"train\", streaming=True\n",
    ")\n",
    "print(next(iter(ds)))"
   ]
  },
  {
   "cell_type": "code",
   "execution_count": 6,
   "metadata": {},
   "outputs": [
    {
     "ename": "NotImplementedError",
     "evalue": "Subclasses of Dataset should implement __getitem__.",
     "output_type": "error",
     "traceback": [
      "\u001b[0;31m---------------------------------------------------------------------------\u001b[0m",
      "\u001b[0;31mNotImplementedError\u001b[0m                       Traceback (most recent call last)",
      "\u001b[0;32m/tmp/ipykernel_667514/3903559858.py\u001b[0m in \u001b[0;36m<module>\u001b[0;34m\u001b[0m\n\u001b[0;32m----> 1\u001b[0;31m \u001b[0mds\u001b[0m\u001b[0;34m[\u001b[0m\u001b[0;36m0\u001b[0m\u001b[0;34m]\u001b[0m\u001b[0;34m\u001b[0m\u001b[0;34m\u001b[0m\u001b[0m\n\u001b[0m",
      "\u001b[0;32m~/.local/lib/python3.10/site-packages/torch/utils/data/dataset.py\u001b[0m in \u001b[0;36m__getitem__\u001b[0;34m(self, index)\u001b[0m\n\u001b[1;32m     58\u001b[0m \u001b[0;34m\u001b[0m\u001b[0m\n\u001b[1;32m     59\u001b[0m     \u001b[0;32mdef\u001b[0m \u001b[0m__getitem__\u001b[0m\u001b[0;34m(\u001b[0m\u001b[0mself\u001b[0m\u001b[0;34m,\u001b[0m \u001b[0mindex\u001b[0m\u001b[0;34m)\u001b[0m \u001b[0;34m->\u001b[0m \u001b[0mT_co\u001b[0m\u001b[0;34m:\u001b[0m\u001b[0;34m\u001b[0m\u001b[0;34m\u001b[0m\u001b[0m\n\u001b[0;32m---> 60\u001b[0;31m         \u001b[0;32mraise\u001b[0m \u001b[0mNotImplementedError\u001b[0m\u001b[0;34m(\u001b[0m\u001b[0;34m\"Subclasses of Dataset should implement __getitem__.\"\u001b[0m\u001b[0;34m)\u001b[0m\u001b[0;34m\u001b[0m\u001b[0;34m\u001b[0m\u001b[0m\n\u001b[0m\u001b[1;32m     61\u001b[0m \u001b[0;34m\u001b[0m\u001b[0m\n\u001b[1;32m     62\u001b[0m     \u001b[0;31m# def __getitems__(self, indices: List) -> List[T_co]:\u001b[0m\u001b[0;34m\u001b[0m\u001b[0;34m\u001b[0m\u001b[0m\n",
      "\u001b[0;31mNotImplementedError\u001b[0m: Subclasses of Dataset should implement __getitem__."
     ]
    }
   ],
   "source": [
    "ds[0]"
   ]
  }
 ],
 "metadata": {
  "kernelspec": {
   "display_name": "env",
   "language": "python",
   "name": "python3"
  },
  "language_info": {
   "codemirror_mode": {
    "name": "ipython",
    "version": 3
   },
   "file_extension": ".py",
   "mimetype": "text/x-python",
   "name": "python",
   "nbconvert_exporter": "python",
   "pygments_lexer": "ipython3",
   "version": "3.10.12"
  }
 },
 "nbformat": 4,
 "nbformat_minor": 2
}
